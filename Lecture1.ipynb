{
  "nbformat": 4,
  "nbformat_minor": 0,
  "metadata": {
    "colab": {
      "name": "Lecture1.ipynb",
      "provenance": [],
      "authorship_tag": "ABX9TyMn4HaNZ9khEBTR7+xzKL1W",
      "include_colab_link": true
    },
    "kernelspec": {
      "name": "python3",
      "display_name": "Python 3"
    },
    "language_info": {
      "name": "python"
    }
  },
  "cells": [
    {
      "cell_type": "markdown",
      "metadata": {
        "id": "view-in-github",
        "colab_type": "text"
      },
      "source": [
        "<a href=\"https://colab.research.google.com/github/aj2622/MIT-6.0001/blob/main/Lecture1.ipynb\" target=\"_parent\"><img src=\"https://colab.research.google.com/assets/colab-badge.svg\" alt=\"Open In Colab\"/></a>"
      ]
    },
    {
      "cell_type": "markdown",
      "source": [
        "Declarative knowledge consists of facts, imperative knowledge is how to (recipe) knowledge "
      ],
      "metadata": {
        "id": "tgz4pF-fWwpK"
      }
    },
    {
      "cell_type": "markdown",
      "source": [
        "Recipe \n",
        "\n",
        "*   Sequence of steps\n",
        "*   Flow of control\n",
        "*   Determining when to stop\n",
        "\n"
      ],
      "metadata": {
        "id": "RPDloeUzZkhv"
      }
    },
    {
      "cell_type": "markdown",
      "source": [
        "in python everything is an obect \n",
        "\n",
        "\n",
        "*   Scalar : int, float, bool, NoneType\n",
        "*   Non Scalar \n",
        "\n"
      ],
      "metadata": {
        "id": "gcVTsFUwdpu_"
      }
    },
    {
      "cell_type": "code",
      "execution_count": null,
      "metadata": {
        "id": "Nzzh3xhHT2aN"
      },
      "outputs": [],
      "source": [
        ""
      ]
    }
  ]
}